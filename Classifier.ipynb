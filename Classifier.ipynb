{
 "cells": [
  {
   "cell_type": "markdown",
   "metadata": {},
   "source": [
    "# Logistic Regression"
   ]
  },
  {
   "cell_type": "code",
   "execution_count": 65,
   "metadata": {
    "collapsed": false
   },
   "outputs": [],
   "source": [
    "import scipy.io as sio\n",
    "from sklearn.preprocessing import normalize\n",
    "from sklearn import linear_model as lm\n",
    "import pandas as pd\n",
    "import csv\n",
    "import numpy as np"
   ]
  },
  {
   "cell_type": "code",
   "execution_count": 81,
   "metadata": {
    "collapsed": false
   },
   "outputs": [],
   "source": [
    "data_path = 'classifier.mat'\n",
    "\n",
    "data = sio.loadmat(data_path)\n",
    "org_account_type = data['training_labels'].T\n",
    "org_account_data = data['training_data'] \n",
    "indiv_account_data = data['individual_data'] \n",
    "indiv_account_order = data['individual_account_order'] "
   ]
  },
  {
   "cell_type": "code",
   "execution_count": 82,
   "metadata": {
    "collapsed": false
   },
   "outputs": [
    {
     "data": {
      "text/plain": [
       "dict_keys(['training_labels', 'individual_account_order', 'individual_data', '__header__', 'training_data', '__version__', '__globals__'])"
      ]
     },
     "execution_count": 82,
     "metadata": {},
     "output_type": "execute_result"
    }
   ],
   "source": [
    "data.keys()"
   ]
  },
  {
   "cell_type": "code",
   "execution_count": 83,
   "metadata": {
    "collapsed": false
   },
   "outputs": [
    {
     "data": {
      "text/plain": [
       "(80, 1)"
      ]
     },
     "execution_count": 83,
     "metadata": {},
     "output_type": "execute_result"
    }
   ],
   "source": [
    "org_account_type.shape"
   ]
  },
  {
   "cell_type": "code",
   "execution_count": 84,
   "metadata": {
    "collapsed": false
   },
   "outputs": [
    {
     "data": {
      "text/plain": [
       "(200, 112)"
      ]
     },
     "execution_count": 84,
     "metadata": {},
     "output_type": "execute_result"
    }
   ],
   "source": [
    "indiv_account_data.shape"
   ]
  },
  {
   "cell_type": "markdown",
   "metadata": {},
   "source": [
    "----\n",
    "# Build Classifier"
   ]
  },
  {
   "cell_type": "code",
   "execution_count": 85,
   "metadata": {
    "collapsed": false
   },
   "outputs": [],
   "source": [
    "# Normalize the data set\n",
    "normed_org_acnt_data = normalize(org_account_data, axis=1, norm='l2')\n",
    "normed_indiv_data = normalize(indiv_account_data, axis=1, norm='l2')"
   ]
  },
  {
   "cell_type": "code",
   "execution_count": 86,
   "metadata": {
    "collapsed": false
   },
   "outputs": [
    {
     "name": "stdout",
     "output_type": "stream",
     "text": [
      "LogisticRegression score: 0.975000\n"
     ]
    },
    {
     "name": "stderr",
     "output_type": "stream",
     "text": [
      "/Users/juntan/anaconda3/envs/datascience/lib/python3.5/site-packages/sklearn/utils/validation.py:526: DataConversionWarning: A column-vector y was passed when a 1d array was expected. Please change the shape of y to (n_samples, ), for example using ravel().\n",
      "  y = column_or_1d(y, warn=True)\n"
     ]
    }
   ],
   "source": [
    "# Fit the model to logistic function\n",
    "logistic = lm.LogisticRegression(fit_intercept=True)\n",
    "logistic.fit(normed_org_acnt_data, org_account_type)\n",
    "print('LogisticRegression score: %f'\n",
    "      % logistic.fit(normed_org_acnt_data, org_account_type).score(normed_org_acnt_data, org_account_type))"
   ]
  },
  {
   "cell_type": "code",
   "execution_count": 87,
   "metadata": {
    "collapsed": false
   },
   "outputs": [
    {
     "data": {
      "text/plain": [
       "array([[  1.67463218e+00,   1.78919596e+00,  -8.53989161e-01,\n",
       "          7.19771160e-01,   8.16356455e-01,   7.45357062e-01,\n",
       "         -1.79027230e+00,   5.97134461e-01,   5.54541444e-01,\n",
       "         -2.17075920e-01,   4.24793956e-01,   3.79094695e-01,\n",
       "         -1.23285504e-01,   2.89837883e-01,   1.33540945e-02,\n",
       "          3.24532032e-01,  -1.36818643e-01,   3.44213083e-01,\n",
       "         -2.33203825e-01,   3.95548506e-01,  -3.47542946e-03,\n",
       "         -1.14792640e-01,  -4.39516228e-01,   1.86079037e-01,\n",
       "         -1.44651625e-01,   3.15233839e-01,   1.40732485e-01,\n",
       "          1.24816098e-01,   3.55312923e-02,   1.96123980e-01,\n",
       "          1.95052035e-01,  -1.78062551e-01,   4.24504157e-01,\n",
       "         -5.61924219e-02,  -2.20821953e-01,  -3.11060240e-01,\n",
       "         -3.89779025e-01,  -1.08198869e-03,  -8.42577604e-02,\n",
       "         -3.00186282e-01,  -9.98429291e-02,  -2.68440158e-01,\n",
       "          9.23430504e-02,   1.99518729e-01,  -2.44903172e-01,\n",
       "          7.41746479e-02,   2.07270699e-01,  -1.29821931e-01,\n",
       "          4.83439109e-02,   9.45779052e-02,   1.67790482e-01,\n",
       "         -5.73865243e-03,   1.81056326e-01,   1.28575638e-01,\n",
       "          2.08268623e-02,  -1.62886766e-02,  -2.22635350e-02,\n",
       "          9.39960616e-03,  -1.22266158e-01,   7.87667259e-02,\n",
       "          9.20508886e-02,  -8.00803604e-02,   1.27954022e-01,\n",
       "         -6.18390993e-01,   5.49975533e-04,  -2.17075920e-01,\n",
       "         -6.58823801e-01,  -6.18390993e-01,  -3.11060240e-01,\n",
       "         -2.44903172e-01,  -1.97445584e-01,  -1.23285504e-01,\n",
       "         -1.14792640e-01,  -5.56703133e-01,  -2.84027021e-01,\n",
       "         -2.47570326e-01,  -3.71987297e-01,  -2.49710153e-01,\n",
       "         -3.18150200e-01,  -8.42577604e-02,  -3.08829202e-01,\n",
       "         -1.22266158e-01,  -5.61924219e-02,  -1.50236524e-01,\n",
       "          7.19771160e-01,  -2.52849222e-01,  -2.32704415e-01,\n",
       "         -2.24619014e-01,  -2.03027089e-01,  -1.92872774e-01,\n",
       "         -7.70812947e-02,  -8.00803604e-02,  -3.47542946e-03,\n",
       "         -1.99606301e-01,  -1.29172504e-01,  -2.38445208e-01,\n",
       "         -1.50015993e-01,  -1.36818643e-01,  -1.01439073e-01,\n",
       "         -1.61908185e-01,  -1.57385445e-01,   1.40732485e-01,\n",
       "          2.53997377e-02,  -1.55301224e-01,  -9.35313597e-02,\n",
       "         -1.06420989e-01,  -1.36975971e-01,  -2.06084188e-01,\n",
       "         -1.46697990e-01,  -1.15781929e-01,  -7.12249640e-02,\n",
       "         -1.50940426e-01]])"
      ]
     },
     "execution_count": 87,
     "metadata": {},
     "output_type": "execute_result"
    }
   ],
   "source": [
    "logistic.coef_"
   ]
  },
  {
   "cell_type": "code",
   "execution_count": 88,
   "metadata": {
    "collapsed": false
   },
   "outputs": [
    {
     "data": {
      "text/plain": [
       "1"
      ]
     },
     "execution_count": 88,
     "metadata": {},
     "output_type": "execute_result"
    }
   ],
   "source": [
    "np.argmax(logistic.coef_)"
   ]
  },
  {
   "cell_type": "markdown",
   "metadata": {},
   "source": [
    "Once we fit the logistic model to the hand labeled popular accounts, we can use the logistic model to predict the type of the individual accounts and the strength of the belief. $logistic.predict$ produces the probability of the sample for each class in the model, where classes are ordered as they are in logistic.classes_ = array([0, 1]), 1 is prlife, 0 is prochoice"
   ]
  },
  {
   "cell_type": "code",
   "execution_count": 89,
   "metadata": {
    "collapsed": true
   },
   "outputs": [],
   "source": [
    "# Calculate the strength of the belief for individual accounts\n",
    "strengths = logistic.predict_proba(normed_indiv_data)"
   ]
  },
  {
   "cell_type": "code",
   "execution_count": 90,
   "metadata": {
    "collapsed": true
   },
   "outputs": [],
   "source": [
    "pred = logistic.predict(normed_indiv_data)"
   ]
  },
  {
   "cell_type": "code",
   "execution_count": 91,
   "metadata": {
    "collapsed": false
   },
   "outputs": [],
   "source": [
    "file_dict = {}\n",
    "file_dict['individual_account_order'] = indiv_account_order\n",
    "file_dict['prochoice_strength'] = strengths[:,0]\n",
    "file_dict['prolife_strength'] = strengths[:,1]\n",
    "file_dict['predict_class'] = pred\n",
    "sio.savemat('individual_strength_class.mat', file_dict, do_compression=True)"
   ]
  },
  {
   "cell_type": "code",
   "execution_count": 92,
   "metadata": {
    "collapsed": false
   },
   "outputs": [
    {
     "data": {
      "text/plain": [
       "array([0, 1])"
      ]
     },
     "execution_count": 92,
     "metadata": {},
     "output_type": "execute_result"
    }
   ],
   "source": [
    "logistic.classes_"
   ]
  },
  {
   "cell_type": "markdown",
   "metadata": {
    "collapsed": true
   },
   "source": [
    "# Combine result from following diversity"
   ]
  },
  {
   "cell_type": "code",
   "execution_count": 31,
   "metadata": {
    "collapsed": false
   },
   "outputs": [
    {
     "data": {
      "text/html": [
       "<div>\n",
       "<table border=\"1\" class=\"dataframe\">\n",
       "  <thead>\n",
       "    <tr style=\"text-align: right;\">\n",
       "      <th></th>\n",
       "      <th>account_name</th>\n",
       "      <th>predict_class</th>\n",
       "      <th>prochoice_strength</th>\n",
       "      <th>prolife_strength</th>\n",
       "    </tr>\n",
       "  </thead>\n",
       "  <tbody>\n",
       "    <tr>\n",
       "      <th>0</th>\n",
       "      <td>ABabysRights</td>\n",
       "      <td>1</td>\n",
       "      <td>0.112896</td>\n",
       "      <td>0.887104</td>\n",
       "    </tr>\n",
       "    <tr>\n",
       "      <th>1</th>\n",
       "      <td>ABGYNservices</td>\n",
       "      <td>0</td>\n",
       "      <td>0.541203</td>\n",
       "      <td>0.458797</td>\n",
       "    </tr>\n",
       "    <tr>\n",
       "      <th>2</th>\n",
       "      <td>Abigailschumach</td>\n",
       "      <td>1</td>\n",
       "      <td>0.305871</td>\n",
       "      <td>0.694129</td>\n",
       "    </tr>\n",
       "    <tr>\n",
       "      <th>3</th>\n",
       "      <td>Alboteaparty</td>\n",
       "      <td>0</td>\n",
       "      <td>0.561752</td>\n",
       "      <td>0.438248</td>\n",
       "    </tr>\n",
       "    <tr>\n",
       "      <th>4</th>\n",
       "      <td>alexdelong_</td>\n",
       "      <td>1</td>\n",
       "      <td>0.141862</td>\n",
       "      <td>0.858138</td>\n",
       "    </tr>\n",
       "  </tbody>\n",
       "</table>\n",
       "</div>"
      ],
      "text/plain": [
       "      account_name  predict_class  prochoice_strength  prolife_strength\n",
       "0     ABabysRights              1            0.112896          0.887104\n",
       "1    ABGYNservices              0            0.541203          0.458797\n",
       "2  Abigailschumach              1            0.305871          0.694129\n",
       "3     Alboteaparty              0            0.561752          0.438248\n",
       "4      alexdelong_              1            0.141862          0.858138"
      ]
     },
     "execution_count": 31,
     "metadata": {},
     "output_type": "execute_result"
    }
   ],
   "source": [
    "classifier_df = pd.DataFrame(\n",
    "    {\n",
    "    \"account_name\": [s.strip() for s in indiv_account_order], \n",
    "    \"prochoice_strength\": strengths[:,0],\n",
    "    \"prolife_strength\": strengths[:,1],\n",
    "    \"predict_class\": pred\n",
    "    }\n",
    ")\n",
    "\n",
    "classifier_df.head()"
   ]
  },
  {
   "cell_type": "markdown",
   "metadata": {},
   "source": [
    "There are 197 accounts in the result_df."
   ]
  },
  {
   "cell_type": "code",
   "execution_count": 32,
   "metadata": {
    "collapsed": false
   },
   "outputs": [
    {
     "data": {
      "text/plain": [
       "(200, 4)"
      ]
     },
     "execution_count": 32,
     "metadata": {},
     "output_type": "execute_result"
    }
   ],
   "source": [
    "classifier_df.shape"
   ]
  },
  {
   "cell_type": "markdown",
   "metadata": {},
   "source": [
    "Add a column tells whether the user is a follower of the prolife account (1) or prochoice (-1) account or both (0)."
   ]
  },
  {
   "cell_type": "code",
   "execution_count": 33,
   "metadata": {
    "collapsed": false
   },
   "outputs": [],
   "source": [
    "prolife_followers = []\n",
    "with open('./prolife_followers.csv', 'r') as f:\n",
    "    reader = csv.reader(f)\n",
    "    for item in list(reader):\n",
    "        prolife_followers += item\n",
    "assert len(set(prolife_followers))==100\n",
    "\n",
    "prochoice_followers = []\n",
    "with open('./prochoice_followers.csv', 'r') as f:\n",
    "    reader = csv.reader(f)\n",
    "    for item in list(reader):\n",
    "        prochoice_followers += item\n",
    "assert len(set(prochoice_followers))==100\n",
    "\n",
    "classifier_df['follower of'] = [0 if user in prolife_followers and user in prochoice_followers \n",
    "                            else 1 if user in prolife_followers else -1 for user in classifier_df['account_name']]"
   ]
  },
  {
   "cell_type": "markdown",
   "metadata": {},
   "source": [
    "Combine the classifier's result with the following diversity result."
   ]
  },
  {
   "cell_type": "code",
   "execution_count": 34,
   "metadata": {
    "collapsed": false
   },
   "outputs": [
    {
     "name": "stdout",
     "output_type": "stream",
     "text": [
      "size of the data frame (200, 7)\n"
     ]
    },
    {
     "data": {
      "text/html": [
       "<div>\n",
       "<table border=\"1\" class=\"dataframe\">\n",
       "  <thead>\n",
       "    <tr style=\"text-align: right;\">\n",
       "      <th></th>\n",
       "      <th>account_name</th>\n",
       "      <th>predict_class</th>\n",
       "      <th>prochoice_strength</th>\n",
       "      <th>prolife_strength</th>\n",
       "      <th>follower of</th>\n",
       "      <th>prolife proportion</th>\n",
       "      <th>prochoice proportion</th>\n",
       "    </tr>\n",
       "  </thead>\n",
       "  <tbody>\n",
       "    <tr>\n",
       "      <th>195</th>\n",
       "      <td>VLabarum</td>\n",
       "      <td>1</td>\n",
       "      <td>0.440136</td>\n",
       "      <td>0.559864</td>\n",
       "      <td>1</td>\n",
       "      <td>1.0</td>\n",
       "      <td>0.0</td>\n",
       "    </tr>\n",
       "    <tr>\n",
       "      <th>196</th>\n",
       "      <td>wafulkerson1</td>\n",
       "      <td>0</td>\n",
       "      <td>0.609548</td>\n",
       "      <td>0.390452</td>\n",
       "      <td>1</td>\n",
       "      <td>1.0</td>\n",
       "      <td>0.0</td>\n",
       "    </tr>\n",
       "    <tr>\n",
       "      <th>197</th>\n",
       "      <td>WarrenDavidson</td>\n",
       "      <td>1</td>\n",
       "      <td>0.270500</td>\n",
       "      <td>0.729500</td>\n",
       "      <td>1</td>\n",
       "      <td>0.9</td>\n",
       "      <td>0.1</td>\n",
       "    </tr>\n",
       "    <tr>\n",
       "      <th>198</th>\n",
       "      <td>WilsonRx</td>\n",
       "      <td>1</td>\n",
       "      <td>0.351691</td>\n",
       "      <td>0.648309</td>\n",
       "      <td>1</td>\n",
       "      <td>1.0</td>\n",
       "      <td>0.0</td>\n",
       "    </tr>\n",
       "    <tr>\n",
       "      <th>199</th>\n",
       "      <td>wordspurify27</td>\n",
       "      <td>0</td>\n",
       "      <td>0.578185</td>\n",
       "      <td>0.421815</td>\n",
       "      <td>-1</td>\n",
       "      <td>0.0</td>\n",
       "      <td>1.0</td>\n",
       "    </tr>\n",
       "  </tbody>\n",
       "</table>\n",
       "</div>"
      ],
      "text/plain": [
       "       account_name  predict_class  prochoice_strength  prolife_strength  \\\n",
       "195        VLabarum              1            0.440136          0.559864   \n",
       "196    wafulkerson1              0            0.609548          0.390452   \n",
       "197  WarrenDavidson              1            0.270500          0.729500   \n",
       "198        WilsonRx              1            0.351691          0.648309   \n",
       "199   wordspurify27              0            0.578185          0.421815   \n",
       "\n",
       "     follower of  prolife proportion  prochoice proportion  \n",
       "195            1                 1.0                   0.0  \n",
       "196            1                 1.0                   0.0  \n",
       "197            1                 0.9                   0.1  \n",
       "198            1                 1.0                   0.0  \n",
       "199           -1                 0.0                   1.0  "
      ]
     },
     "execution_count": 34,
     "metadata": {},
     "output_type": "execute_result"
    }
   ],
   "source": [
    "following_proportion = pd.read_csv('proportion.csv')\n",
    "combine_df = pd.merge(classifier_df, following_proportion, left_on='account_name', right_on='User', how='left')\n",
    "result_df = combine_df.drop_duplicates()\n",
    "result_df = result_df.drop('User', axis=1)\n",
    "print(\"size of the data frame\", result_df.shape)\n",
    "result_df.tail()"
   ]
  },
  {
   "cell_type": "markdown",
   "metadata": {},
   "source": [
    "# Save the file"
   ]
  },
  {
   "cell_type": "code",
   "execution_count": 35,
   "metadata": {
    "collapsed": true
   },
   "outputs": [],
   "source": [
    "result_df.to_csv(\"hashtag_indiv_strength_diversity.csv\", index=False)"
   ]
  },
  {
   "cell_type": "code",
   "execution_count": null,
   "metadata": {
    "collapsed": true
   },
   "outputs": [],
   "source": []
  }
 ],
 "metadata": {
  "kernelspec": {
   "display_name": "Python 3",
   "language": "python",
   "name": "python3"
  },
  "language_info": {
   "codemirror_mode": {
    "name": "ipython",
    "version": 3
   },
   "file_extension": ".py",
   "mimetype": "text/x-python",
   "name": "python",
   "nbconvert_exporter": "python",
   "pygments_lexer": "ipython3",
   "version": "3.5.2"
  }
 },
 "nbformat": 4,
 "nbformat_minor": 2
}
