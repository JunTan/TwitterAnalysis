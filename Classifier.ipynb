{
 "cells": [
  {
   "cell_type": "markdown",
   "metadata": {},
   "source": [
    "# Logistic Regression"
   ]
  },
  {
   "cell_type": "code",
   "execution_count": 93,
   "metadata": {
    "collapsed": false
   },
   "outputs": [],
   "source": [
    "import scipy.io as sio\n",
    "from sklearn.preprocessing import normalize\n",
    "from sklearn import linear_model as lm\n",
    "import pandas as pd\n",
    "import csv\n",
    "import numpy as np"
   ]
  },
  {
   "cell_type": "code",
   "execution_count": 107,
   "metadata": {
    "collapsed": false
   },
   "outputs": [],
   "source": [
    "data_path = 'hashtag_vec.mat'\n",
    "\n",
    "data = sio.loadmat(data_path)\n",
    "org_account_type = data['training_labels'].T\n",
    "org_account_data = data['training_data'] \n",
    "indiv_account_data = data['individual_data'] \n",
    "indiv_account_order = data['individual_account_order'] "
   ]
  },
  {
   "cell_type": "code",
   "execution_count": 108,
   "metadata": {
    "collapsed": false
   },
   "outputs": [
    {
     "data": {
      "text/plain": [
       "dict_keys(['training_labels', 'individual_account_order', 'individual_data', '__header__', 'training_data', '__version__', '__globals__'])"
      ]
     },
     "execution_count": 108,
     "metadata": {},
     "output_type": "execute_result"
    }
   ],
   "source": [
    "data.keys()"
   ]
  },
  {
   "cell_type": "code",
   "execution_count": 109,
   "metadata": {
    "collapsed": false
   },
   "outputs": [
    {
     "data": {
      "text/plain": [
       "(80, 1)"
      ]
     },
     "execution_count": 109,
     "metadata": {},
     "output_type": "execute_result"
    }
   ],
   "source": [
    "org_account_type.shape"
   ]
  },
  {
   "cell_type": "code",
   "execution_count": 110,
   "metadata": {
    "collapsed": false
   },
   "outputs": [
    {
     "data": {
      "text/plain": [
       "(200, 186)"
      ]
     },
     "execution_count": 110,
     "metadata": {},
     "output_type": "execute_result"
    }
   ],
   "source": [
    "indiv_account_data.shape"
   ]
  },
  {
   "cell_type": "markdown",
   "metadata": {},
   "source": [
    "----\n",
    "# Build Classifier"
   ]
  },
  {
   "cell_type": "code",
   "execution_count": 111,
   "metadata": {
    "collapsed": false
   },
   "outputs": [],
   "source": [
    "# Normalize the data set\n",
    "normed_org_acnt_data = normalize(org_account_data, axis=1, norm='l2')\n",
    "normed_indiv_data = normalize(indiv_account_data, axis=1, norm='l2')"
   ]
  },
  {
   "cell_type": "code",
   "execution_count": 112,
   "metadata": {
    "collapsed": false
   },
   "outputs": [
    {
     "name": "stdout",
     "output_type": "stream",
     "text": [
      "LogisticRegression score: 0.975000\n"
     ]
    },
    {
     "name": "stderr",
     "output_type": "stream",
     "text": [
      "/Users/juntan/anaconda3/envs/datascience/lib/python3.5/site-packages/sklearn/utils/validation.py:526: DataConversionWarning: A column-vector y was passed when a 1d array was expected. Please change the shape of y to (n_samples, ), for example using ravel().\n",
      "  y = column_or_1d(y, warn=True)\n"
     ]
    }
   ],
   "source": [
    "# Fit the model to logistic function\n",
    "logistic = lm.LogisticRegression(fit_intercept=True)\n",
    "logistic.fit(normed_org_acnt_data, org_account_type)\n",
    "print('LogisticRegression score: %f'\n",
    "      % logistic.fit(normed_org_acnt_data, org_account_type).score(normed_org_acnt_data, org_account_type))"
   ]
  },
  {
   "cell_type": "code",
   "execution_count": 113,
   "metadata": {
    "collapsed": false
   },
   "outputs": [
    {
     "data": {
      "text/plain": [
       "array([[  2.83093864e+00,  -8.30646097e-01,   1.47366702e-01,\n",
       "          6.37359801e-01,   1.34900328e-01,   8.86651218e-02,\n",
       "          5.06173717e-01,   2.03839375e-01,   5.07548440e-02,\n",
       "          8.43592930e-02,   1.55303775e-01,   5.57115859e-02,\n",
       "          2.22764438e-01,  -3.47507318e-01,   1.59549099e-01,\n",
       "          4.34055592e-02,   1.48367710e-01,   3.13412575e-01,\n",
       "          6.28278626e-01,   1.65426062e-01,   2.57021465e-01,\n",
       "          5.72995070e-02,   1.36595126e-01,   9.20808360e-02,\n",
       "          1.18796276e-01,   8.52893933e-02,   8.46629799e-02,\n",
       "          6.14746573e-02,   1.53922511e-01,   7.32784550e-02,\n",
       "          6.75804281e-02,   1.38842716e-01,   2.28734824e-02,\n",
       "          7.54887092e-02,   2.19003071e-02,  -6.20270221e-03,\n",
       "          6.84501637e-02,   3.64070791e-02,   5.85730156e-02,\n",
       "          2.65225437e-02,   2.20096682e-02,   2.17148872e-02,\n",
       "         -1.51291772e-01,   4.05091940e-01,   6.83707566e-02,\n",
       "         -2.68154456e-02,   4.83243822e-02,   4.58589701e-02,\n",
       "          9.60411149e-03,   1.93776509e-01,   3.41582765e-02,\n",
       "          4.82117426e-01,   3.82603532e-02,   8.48138895e-02,\n",
       "          2.73470795e-01,   2.27614777e-02,  -1.75628255e-03,\n",
       "          9.16439787e-02,   7.50564582e-02,  -2.63077604e-01,\n",
       "         -2.29121096e-02,   2.37548580e-02,   2.32105465e-01,\n",
       "          2.68781924e-02,   3.85812068e-01,   3.03307532e-02,\n",
       "          8.28636608e-03,   1.03049566e-01,   1.21484930e-02,\n",
       "          4.45335598e-02,   2.39769437e-02,   1.53531092e-02,\n",
       "          1.42830800e-02,  -1.25222118e-02,   7.02903187e-03,\n",
       "         -1.00369598e-02,   2.55238349e-02,   5.74135912e-02,\n",
       "          2.47538532e-02,   2.14049994e-02,  -8.68327972e-03,\n",
       "          6.68934587e-02,   6.26406497e-02,   5.09462301e-02,\n",
       "          1.58664723e-02,   2.66287892e-02,   4.52465137e-02,\n",
       "          2.60211859e-01,   2.27735449e-02,   8.06068773e-02,\n",
       "         -1.42483519e-01,  -1.06695246e+00,  -7.67569989e-01,\n",
       "         -3.64739160e-01,  -5.69486164e-01,  -5.68058146e-01,\n",
       "         -4.25603328e-01,  -3.33084185e-01,  -1.80807666e-01,\n",
       "         -2.66973832e-01,  -2.91717570e-01,   0.00000000e+00,\n",
       "         -2.27245984e-01,  -2.38852252e-01,  -3.20994328e-01,\n",
       "         -1.89772344e-01,  -2.95379854e-01,  -1.87501898e-01,\n",
       "         -3.16768515e-01,  -2.37302428e-01,  -1.27506922e-01,\n",
       "         -2.57198951e-01,  -1.13939077e-01,  -1.41904797e-01,\n",
       "         -4.05261417e-01,  -1.03203929e-01,  -3.58934703e-01,\n",
       "         -1.69673346e-01,  -2.70412717e-01,  -1.09843907e-01,\n",
       "         -2.55501334e-01,  -6.07966654e-02,  -1.26157903e-01,\n",
       "         -1.07395591e-01,  -1.05468581e-01,  -1.23991097e-01,\n",
       "         -8.14931414e-02,  -1.42814825e-01,  -1.16045389e-01,\n",
       "         -3.59505520e-01,  -1.01332856e-01,   8.07358612e-03,\n",
       "         -2.35983523e-01,  -1.04900426e-01,  -7.94784583e-02,\n",
       "         -9.18899264e-02,  -1.02830157e-01,  -1.17295114e-01,\n",
       "         -1.06433176e-01,  -4.11616669e-02,  -8.25507794e-02,\n",
       "         -9.41900794e-02,  -4.77825346e-02,  -8.89351803e-02,\n",
       "          4.22349742e-01,  -7.83690117e-02,  -7.49259768e-02,\n",
       "         -7.50000046e-02,  -4.61670786e-02,  -1.14925727e-01,\n",
       "         -3.47282381e-02,  -2.18084921e-01,  -1.07848481e-01,\n",
       "         -8.66693063e-02,  -1.40072740e-01,  -6.21580137e-02,\n",
       "         -1.19378509e-01,  -5.35108621e-02,  -6.37144335e-02,\n",
       "         -6.77728457e-02,  -1.35410606e-01,  -7.74104174e-02,\n",
       "         -7.97311358e-02,  -8.43746018e-02,  -2.00340071e-02,\n",
       "         -7.84686524e-02,   0.00000000e+00,  -7.49252169e-02,\n",
       "         -1.22238281e-01,  -5.30023242e-02,  -1.76260347e-02,\n",
       "         -1.15896433e-01,  -9.62079422e-02,  -6.09293628e-02,\n",
       "         -2.06921066e-01,  -7.99885978e-02,  -6.13630362e-02,\n",
       "         -1.03714095e-01,  -5.70940495e-02,  -2.84612901e-02,\n",
       "         -2.80566376e-02,  -4.86995854e-02,  -2.12952967e-01,\n",
       "         -1.07128324e-01,  -8.83961556e-02,  -6.23365240e-02]])"
      ]
     },
     "execution_count": 113,
     "metadata": {},
     "output_type": "execute_result"
    }
   ],
   "source": [
    "logistic.coef_"
   ]
  },
  {
   "cell_type": "code",
   "execution_count": 114,
   "metadata": {
    "collapsed": false
   },
   "outputs": [
    {
     "data": {
      "text/plain": [
       "0"
      ]
     },
     "execution_count": 114,
     "metadata": {},
     "output_type": "execute_result"
    }
   ],
   "source": [
    "np.argmax(logistic.coef_)"
   ]
  },
  {
   "cell_type": "markdown",
   "metadata": {},
   "source": [
    "Once we fit the logistic model to the hand labeled popular accounts, we can use the logistic model to predict the type of the individual accounts and the strength of the belief. $logistic.predict$ produces the probability of the sample for each class in the model, where classes are ordered as they are in logistic.classes_ = array([0, 1]), 1 is prlife, 0 is prochoice"
   ]
  },
  {
   "cell_type": "code",
   "execution_count": 115,
   "metadata": {
    "collapsed": true
   },
   "outputs": [],
   "source": [
    "# Calculate the strength of the belief for individual accounts\n",
    "strengths = logistic.predict_proba(normed_indiv_data)"
   ]
  },
  {
   "cell_type": "code",
   "execution_count": 116,
   "metadata": {
    "collapsed": true
   },
   "outputs": [],
   "source": [
    "pred = logistic.predict(normed_indiv_data)"
   ]
  },
  {
   "cell_type": "code",
   "execution_count": 117,
   "metadata": {
    "collapsed": false
   },
   "outputs": [],
   "source": [
    "file_dict = {}\n",
    "file_dict['individual_account_order'] = indiv_account_order\n",
    "file_dict['prochoice_strength'] = strengths[:,0]\n",
    "file_dict['prolife_strength'] = strengths[:,1]\n",
    "file_dict['predict_class'] = pred\n",
    "sio.savemat('indiv_logistic_prop_hashtag.mat', file_dict, do_compression=True)"
   ]
  },
  {
   "cell_type": "code",
   "execution_count": 92,
   "metadata": {
    "collapsed": false
   },
   "outputs": [
    {
     "data": {
      "text/plain": [
       "array([0, 1])"
      ]
     },
     "execution_count": 92,
     "metadata": {},
     "output_type": "execute_result"
    }
   ],
   "source": [
    "logistic.classes_"
   ]
  },
  {
   "cell_type": "markdown",
   "metadata": {
    "collapsed": true
   },
   "source": [
    "# Combine result from following diversity"
   ]
  },
  {
   "cell_type": "code",
   "execution_count": 31,
   "metadata": {
    "collapsed": false
   },
   "outputs": [
    {
     "data": {
      "text/html": [
       "<div>\n",
       "<table border=\"1\" class=\"dataframe\">\n",
       "  <thead>\n",
       "    <tr style=\"text-align: right;\">\n",
       "      <th></th>\n",
       "      <th>account_name</th>\n",
       "      <th>predict_class</th>\n",
       "      <th>prochoice_strength</th>\n",
       "      <th>prolife_strength</th>\n",
       "    </tr>\n",
       "  </thead>\n",
       "  <tbody>\n",
       "    <tr>\n",
       "      <th>0</th>\n",
       "      <td>ABabysRights</td>\n",
       "      <td>1</td>\n",
       "      <td>0.112896</td>\n",
       "      <td>0.887104</td>\n",
       "    </tr>\n",
       "    <tr>\n",
       "      <th>1</th>\n",
       "      <td>ABGYNservices</td>\n",
       "      <td>0</td>\n",
       "      <td>0.541203</td>\n",
       "      <td>0.458797</td>\n",
       "    </tr>\n",
       "    <tr>\n",
       "      <th>2</th>\n",
       "      <td>Abigailschumach</td>\n",
       "      <td>1</td>\n",
       "      <td>0.305871</td>\n",
       "      <td>0.694129</td>\n",
       "    </tr>\n",
       "    <tr>\n",
       "      <th>3</th>\n",
       "      <td>Alboteaparty</td>\n",
       "      <td>0</td>\n",
       "      <td>0.561752</td>\n",
       "      <td>0.438248</td>\n",
       "    </tr>\n",
       "    <tr>\n",
       "      <th>4</th>\n",
       "      <td>alexdelong_</td>\n",
       "      <td>1</td>\n",
       "      <td>0.141862</td>\n",
       "      <td>0.858138</td>\n",
       "    </tr>\n",
       "  </tbody>\n",
       "</table>\n",
       "</div>"
      ],
      "text/plain": [
       "      account_name  predict_class  prochoice_strength  prolife_strength\n",
       "0     ABabysRights              1            0.112896          0.887104\n",
       "1    ABGYNservices              0            0.541203          0.458797\n",
       "2  Abigailschumach              1            0.305871          0.694129\n",
       "3     Alboteaparty              0            0.561752          0.438248\n",
       "4      alexdelong_              1            0.141862          0.858138"
      ]
     },
     "execution_count": 31,
     "metadata": {},
     "output_type": "execute_result"
    }
   ],
   "source": [
    "classifier_df = pd.DataFrame(\n",
    "    {\n",
    "    \"account_name\": [s.strip() for s in indiv_account_order], \n",
    "    \"prochoice_strength\": strengths[:,0],\n",
    "    \"prolife_strength\": strengths[:,1],\n",
    "    \"predict_class\": pred\n",
    "    }\n",
    ")\n",
    "\n",
    "classifier_df.head()"
   ]
  },
  {
   "cell_type": "markdown",
   "metadata": {},
   "source": [
    "There are 197 accounts in the result_df."
   ]
  },
  {
   "cell_type": "code",
   "execution_count": 32,
   "metadata": {
    "collapsed": false
   },
   "outputs": [
    {
     "data": {
      "text/plain": [
       "(200, 4)"
      ]
     },
     "execution_count": 32,
     "metadata": {},
     "output_type": "execute_result"
    }
   ],
   "source": [
    "classifier_df.shape"
   ]
  },
  {
   "cell_type": "markdown",
   "metadata": {},
   "source": [
    "Add a column tells whether the user is a follower of the prolife account (1) or prochoice (-1) account or both (0)."
   ]
  },
  {
   "cell_type": "code",
   "execution_count": 33,
   "metadata": {
    "collapsed": false
   },
   "outputs": [],
   "source": [
    "prolife_followers = []\n",
    "with open('./prolife_followers.csv', 'r') as f:\n",
    "    reader = csv.reader(f)\n",
    "    for item in list(reader):\n",
    "        prolife_followers += item\n",
    "assert len(set(prolife_followers))==100\n",
    "\n",
    "prochoice_followers = []\n",
    "with open('./prochoice_followers.csv', 'r') as f:\n",
    "    reader = csv.reader(f)\n",
    "    for item in list(reader):\n",
    "        prochoice_followers += item\n",
    "assert len(set(prochoice_followers))==100\n",
    "\n",
    "classifier_df['follower of'] = [0 if user in prolife_followers and user in prochoice_followers \n",
    "                            else 1 if user in prolife_followers else -1 for user in classifier_df['account_name']]"
   ]
  },
  {
   "cell_type": "markdown",
   "metadata": {},
   "source": [
    "Combine the classifier's result with the following diversity result."
   ]
  },
  {
   "cell_type": "code",
   "execution_count": 34,
   "metadata": {
    "collapsed": false
   },
   "outputs": [
    {
     "name": "stdout",
     "output_type": "stream",
     "text": [
      "size of the data frame (200, 7)\n"
     ]
    },
    {
     "data": {
      "text/html": [
       "<div>\n",
       "<table border=\"1\" class=\"dataframe\">\n",
       "  <thead>\n",
       "    <tr style=\"text-align: right;\">\n",
       "      <th></th>\n",
       "      <th>account_name</th>\n",
       "      <th>predict_class</th>\n",
       "      <th>prochoice_strength</th>\n",
       "      <th>prolife_strength</th>\n",
       "      <th>follower of</th>\n",
       "      <th>prolife proportion</th>\n",
       "      <th>prochoice proportion</th>\n",
       "    </tr>\n",
       "  </thead>\n",
       "  <tbody>\n",
       "    <tr>\n",
       "      <th>195</th>\n",
       "      <td>VLabarum</td>\n",
       "      <td>1</td>\n",
       "      <td>0.440136</td>\n",
       "      <td>0.559864</td>\n",
       "      <td>1</td>\n",
       "      <td>1.0</td>\n",
       "      <td>0.0</td>\n",
       "    </tr>\n",
       "    <tr>\n",
       "      <th>196</th>\n",
       "      <td>wafulkerson1</td>\n",
       "      <td>0</td>\n",
       "      <td>0.609548</td>\n",
       "      <td>0.390452</td>\n",
       "      <td>1</td>\n",
       "      <td>1.0</td>\n",
       "      <td>0.0</td>\n",
       "    </tr>\n",
       "    <tr>\n",
       "      <th>197</th>\n",
       "      <td>WarrenDavidson</td>\n",
       "      <td>1</td>\n",
       "      <td>0.270500</td>\n",
       "      <td>0.729500</td>\n",
       "      <td>1</td>\n",
       "      <td>0.9</td>\n",
       "      <td>0.1</td>\n",
       "    </tr>\n",
       "    <tr>\n",
       "      <th>198</th>\n",
       "      <td>WilsonRx</td>\n",
       "      <td>1</td>\n",
       "      <td>0.351691</td>\n",
       "      <td>0.648309</td>\n",
       "      <td>1</td>\n",
       "      <td>1.0</td>\n",
       "      <td>0.0</td>\n",
       "    </tr>\n",
       "    <tr>\n",
       "      <th>199</th>\n",
       "      <td>wordspurify27</td>\n",
       "      <td>0</td>\n",
       "      <td>0.578185</td>\n",
       "      <td>0.421815</td>\n",
       "      <td>-1</td>\n",
       "      <td>0.0</td>\n",
       "      <td>1.0</td>\n",
       "    </tr>\n",
       "  </tbody>\n",
       "</table>\n",
       "</div>"
      ],
      "text/plain": [
       "       account_name  predict_class  prochoice_strength  prolife_strength  \\\n",
       "195        VLabarum              1            0.440136          0.559864   \n",
       "196    wafulkerson1              0            0.609548          0.390452   \n",
       "197  WarrenDavidson              1            0.270500          0.729500   \n",
       "198        WilsonRx              1            0.351691          0.648309   \n",
       "199   wordspurify27              0            0.578185          0.421815   \n",
       "\n",
       "     follower of  prolife proportion  prochoice proportion  \n",
       "195            1                 1.0                   0.0  \n",
       "196            1                 1.0                   0.0  \n",
       "197            1                 0.9                   0.1  \n",
       "198            1                 1.0                   0.0  \n",
       "199           -1                 0.0                   1.0  "
      ]
     },
     "execution_count": 34,
     "metadata": {},
     "output_type": "execute_result"
    }
   ],
   "source": [
    "following_proportion = pd.read_csv('proportion.csv')\n",
    "combine_df = pd.merge(classifier_df, following_proportion, left_on='account_name', right_on='User', how='left')\n",
    "result_df = combine_df.drop_duplicates()\n",
    "result_df = result_df.drop('User', axis=1)\n",
    "print(\"size of the data frame\", result_df.shape)\n",
    "result_df.tail()"
   ]
  },
  {
   "cell_type": "markdown",
   "metadata": {},
   "source": [
    "# Save the file"
   ]
  },
  {
   "cell_type": "code",
   "execution_count": 35,
   "metadata": {
    "collapsed": true
   },
   "outputs": [],
   "source": [
    "result_df.to_csv(\"hashtag_indiv_strength_diversity.csv\", index=False)"
   ]
  },
  {
   "cell_type": "code",
   "execution_count": null,
   "metadata": {
    "collapsed": true
   },
   "outputs": [],
   "source": []
  }
 ],
 "metadata": {
  "kernelspec": {
   "display_name": "Python 3",
   "language": "python",
   "name": "python3"
  },
  "language_info": {
   "codemirror_mode": {
    "name": "ipython",
    "version": 3
   },
   "file_extension": ".py",
   "mimetype": "text/x-python",
   "name": "python",
   "nbconvert_exporter": "python",
   "pygments_lexer": "ipython3",
   "version": "3.5.2"
  }
 },
 "nbformat": 4,
 "nbformat_minor": 2
}
