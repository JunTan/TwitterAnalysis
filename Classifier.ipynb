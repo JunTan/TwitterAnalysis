{
 "cells": [
  {
   "cell_type": "markdown",
   "metadata": {},
   "source": [
    "# Logistic Regression"
   ]
  },
  {
   "cell_type": "code",
   "execution_count": 3,
   "metadata": {
    "collapsed": false
   },
   "outputs": [],
   "source": [
    "import scipy.io as sio\n",
    "from sklearn.preprocessing import normalize\n",
    "from sklearn import linear_model as lm\n",
    "import pandas as pd\n",
    "import csv\n",
    "import numpy as np"
   ]
  },
  {
   "cell_type": "code",
   "execution_count": 14,
   "metadata": {
    "collapsed": false
   },
   "outputs": [],
   "source": [
    "data_path = 'word_vec.mat'\n",
    "\n",
    "data = sio.loadmat(data_path)\n",
    "word_vec = pd.read_csv('select_word.csv', sep=',',header=None).values\n",
    "word_vec = word_vec[1:,0]\n",
    "org_account_type = data['training_labels'].T\n",
    "org_account_data = data['training_data'] \n",
    "indiv_account_data = data['individual_data'] \n",
    "indiv_account_order = data['individual_account_order'] "
   ]
  },
  {
   "cell_type": "code",
   "execution_count": 15,
   "metadata": {
    "collapsed": false
   },
   "outputs": [
    {
     "data": {
      "text/plain": [
       "dict_keys(['individual_data', '__version__', '__header__', 'training_data', 'individual_account_order', 'training_labels', '__globals__'])"
      ]
     },
     "execution_count": 15,
     "metadata": {},
     "output_type": "execute_result"
    }
   ],
   "source": [
    "data.keys()"
   ]
  },
  {
   "cell_type": "code",
   "execution_count": 16,
   "metadata": {
    "collapsed": false
   },
   "outputs": [
    {
     "data": {
      "text/plain": [
       "(80, 1)"
      ]
     },
     "execution_count": 16,
     "metadata": {},
     "output_type": "execute_result"
    }
   ],
   "source": [
    "org_account_type.shape"
   ]
  },
  {
   "cell_type": "code",
   "execution_count": 17,
   "metadata": {
    "collapsed": false
   },
   "outputs": [
    {
     "data": {
      "text/plain": [
       "(200, 111)"
      ]
     },
     "execution_count": 17,
     "metadata": {},
     "output_type": "execute_result"
    }
   ],
   "source": [
    "indiv_account_data.shape"
   ]
  },
  {
   "cell_type": "markdown",
   "metadata": {},
   "source": [
    "----\n",
    "# Build Classifier"
   ]
  },
  {
   "cell_type": "code",
   "execution_count": 18,
   "metadata": {
    "collapsed": false
   },
   "outputs": [],
   "source": [
    "# Normalize the data set\n",
    "normed_org_acnt_data = normalize(org_account_data, axis=1, norm='l2')\n",
    "normed_indiv_data = normalize(indiv_account_data, axis=1, norm='l2')"
   ]
  },
  {
   "cell_type": "code",
   "execution_count": 19,
   "metadata": {
    "collapsed": false
   },
   "outputs": [
    {
     "name": "stdout",
     "output_type": "stream",
     "text": [
      "LogisticRegression score: 0.975000\n"
     ]
    },
    {
     "name": "stderr",
     "output_type": "stream",
     "text": [
      "C:\\Users\\Andy Hyunouk Ko\\Anaconda3\\lib\\site-packages\\sklearn\\utils\\validation.py:515: DataConversionWarning: A column-vector y was passed when a 1d array was expected. Please change the shape of y to (n_samples, ), for example using ravel().\n",
      "  y = column_or_1d(y, warn=True)\n",
      "C:\\Users\\Andy Hyunouk Ko\\Anaconda3\\lib\\site-packages\\sklearn\\utils\\validation.py:515: DataConversionWarning: A column-vector y was passed when a 1d array was expected. Please change the shape of y to (n_samples, ), for example using ravel().\n",
      "  y = column_or_1d(y, warn=True)\n"
     ]
    }
   ],
   "source": [
    "# Fit the model to logistic function\n",
    "logistic = lm.LogisticRegression(fit_intercept=True)\n",
    "logistic.fit(normed_org_acnt_data, org_account_type)\n",
    "print('LogisticRegression score: %f'\n",
    "      % logistic.fit(normed_org_acnt_data, org_account_type).score(normed_org_acnt_data, org_account_type))"
   ]
  },
  {
   "cell_type": "code",
   "execution_count": 20,
   "metadata": {
    "collapsed": false
   },
   "outputs": [
    {
     "data": {
      "text/plain": [
       "-0.1998091285434998"
      ]
     },
     "execution_count": 20,
     "metadata": {},
     "output_type": "execute_result"
    }
   ],
   "source": [
    "logistic.coef_[0][92]"
   ]
  },
  {
   "cell_type": "code",
   "execution_count": 21,
   "metadata": {
    "collapsed": false
   },
   "outputs": [
    {
     "data": {
      "text/plain": [
       "1"
      ]
     },
     "execution_count": 21,
     "metadata": {},
     "output_type": "execute_result"
    }
   ],
   "source": [
    "np.argmax(logistic.coef_)"
   ]
  },
  {
   "cell_type": "markdown",
   "metadata": {},
   "source": [
    "Once we fit the logistic model to the hand labeled popular accounts, we can use the logistic model to predict the type of the individual accounts and the strength of the belief. $logistic.predict$ produces the probability of the sample for each class in the model, where classes are ordered as they are in logistic.classes_ = array([0, 1]), 1 is prolife, 0 is prochoice"
   ]
  },
  {
   "cell_type": "code",
   "execution_count": 24,
   "metadata": {
    "collapsed": false
   },
   "outputs": [
    {
     "data": {
      "text/plain": [
       "array(['women ', 'life ', 'prolife ', 'rt ', 'parenthood ', 'planned ',\n",
       "       'pro ', 'pro ', 'access ', 'choice '], dtype=object)"
      ]
     },
     "execution_count": 24,
     "metadata": {},
     "output_type": "execute_result"
    }
   ],
   "source": [
    "# Pick out words with the largest coefficient in absolute value.\n",
    "coef=abs(logistic.coef_.flatten())\n",
    "sig = np.argsort(-coef)\n",
    "sig = sig.flatten()\n",
    "ind = sig[0:10]\n",
    "coef[ind]\n",
    "word_vec[ind]"
   ]
  },
  {
   "cell_type": "code",
   "execution_count": 23,
   "metadata": {
    "collapsed": true
   },
   "outputs": [],
   "source": [
    "# Calculate the strength of the belief for individual accounts\n",
    "strengths = logistic.predict_proba(normed_indiv_data)"
   ]
  },
  {
   "cell_type": "code",
   "execution_count": 78,
   "metadata": {
    "collapsed": true
   },
   "outputs": [],
   "source": [
    "pred = logistic.predict(normed_indiv_data)"
   ]
  },
  {
   "cell_type": "code",
   "execution_count": 79,
   "metadata": {
    "collapsed": false
   },
   "outputs": [],
   "source": [
    "file_dict = {}\n",
    "file_dict['individual_account_order'] = indiv_account_order\n",
    "file_dict['prochoice_strength'] = strengths[:,0]\n",
    "file_dict['prolife_strength'] = strengths[:,1]\n",
    "file_dict['predict_class'] = pred\n",
    "sio.savemat('indiv_logistic_prop_word.mat', file_dict, do_compression=True)"
   ]
  },
  {
   "cell_type": "code",
   "execution_count": 80,
   "metadata": {
    "collapsed": false
   },
   "outputs": [
    {
     "data": {
      "text/plain": [
       "array([0, 1])"
      ]
     },
     "execution_count": 80,
     "metadata": {},
     "output_type": "execute_result"
    }
   ],
   "source": [
    "logistic.classes_"
   ]
  },
  {
   "cell_type": "markdown",
   "metadata": {
    "collapsed": true
   },
   "source": [
    "# Combine result from following diversity"
   ]
  },
  {
   "cell_type": "code",
   "execution_count": 81,
   "metadata": {
    "collapsed": false
   },
   "outputs": [
    {
     "data": {
      "text/html": [
       "<div>\n",
       "<table border=\"1\" class=\"dataframe\">\n",
       "  <thead>\n",
       "    <tr style=\"text-align: right;\">\n",
       "      <th></th>\n",
       "      <th>account_name</th>\n",
       "      <th>predict_class</th>\n",
       "      <th>prochoice_strength</th>\n",
       "      <th>prolife_strength</th>\n",
       "    </tr>\n",
       "  </thead>\n",
       "  <tbody>\n",
       "    <tr>\n",
       "      <th>0</th>\n",
       "      <td>ABabysRights</td>\n",
       "      <td>1</td>\n",
       "      <td>0.117562</td>\n",
       "      <td>0.882438</td>\n",
       "    </tr>\n",
       "    <tr>\n",
       "      <th>1</th>\n",
       "      <td>ABGYNservices</td>\n",
       "      <td>0</td>\n",
       "      <td>0.768215</td>\n",
       "      <td>0.231785</td>\n",
       "    </tr>\n",
       "    <tr>\n",
       "      <th>2</th>\n",
       "      <td>Abigailschumach</td>\n",
       "      <td>0</td>\n",
       "      <td>0.634644</td>\n",
       "      <td>0.365356</td>\n",
       "    </tr>\n",
       "    <tr>\n",
       "      <th>3</th>\n",
       "      <td>Alboteaparty</td>\n",
       "      <td>0</td>\n",
       "      <td>0.654174</td>\n",
       "      <td>0.345826</td>\n",
       "    </tr>\n",
       "    <tr>\n",
       "      <th>4</th>\n",
       "      <td>alexdelong_</td>\n",
       "      <td>0</td>\n",
       "      <td>0.623838</td>\n",
       "      <td>0.376162</td>\n",
       "    </tr>\n",
       "  </tbody>\n",
       "</table>\n",
       "</div>"
      ],
      "text/plain": [
       "      account_name  predict_class  prochoice_strength  prolife_strength\n",
       "0     ABabysRights              1            0.117562          0.882438\n",
       "1    ABGYNservices              0            0.768215          0.231785\n",
       "2  Abigailschumach              0            0.634644          0.365356\n",
       "3     Alboteaparty              0            0.654174          0.345826\n",
       "4      alexdelong_              0            0.623838          0.376162"
      ]
     },
     "execution_count": 81,
     "metadata": {},
     "output_type": "execute_result"
    }
   ],
   "source": [
    "classifier_df = pd.DataFrame(\n",
    "    {\n",
    "    \"account_name\": [s.strip() for s in indiv_account_order], \n",
    "    \"prochoice_strength\": strengths[:,0],\n",
    "    \"prolife_strength\": strengths[:,1],\n",
    "    \"predict_class\": pred\n",
    "    }\n",
    ")\n",
    "\n",
    "classifier_df.head()"
   ]
  },
  {
   "cell_type": "markdown",
   "metadata": {},
   "source": [
    "There are 197 accounts in the result_df."
   ]
  },
  {
   "cell_type": "code",
   "execution_count": 82,
   "metadata": {
    "collapsed": false
   },
   "outputs": [
    {
     "data": {
      "text/plain": [
       "(200, 4)"
      ]
     },
     "execution_count": 82,
     "metadata": {},
     "output_type": "execute_result"
    }
   ],
   "source": [
    "classifier_df.shape"
   ]
  },
  {
   "cell_type": "markdown",
   "metadata": {},
   "source": [
    "Add a column tells whether the user is a follower of the prolife account (1) or prochoice (-1) account or both (0)."
   ]
  },
  {
   "cell_type": "code",
   "execution_count": 83,
   "metadata": {
    "collapsed": false
   },
   "outputs": [],
   "source": [
    "prolife_followers = []\n",
    "with open('./prolife_followers.csv', 'r') as f:\n",
    "    reader = csv.reader(f)\n",
    "    for item in list(reader):\n",
    "        prolife_followers += item\n",
    "assert len(set(prolife_followers))==100\n",
    "\n",
    "prochoice_followers = []\n",
    "with open('./prochoice_followers.csv', 'r') as f:\n",
    "    reader = csv.reader(f)\n",
    "    for item in list(reader):\n",
    "        prochoice_followers += item\n",
    "assert len(set(prochoice_followers))==100\n",
    "\n",
    "classifier_df['follower of'] = [0 if user in prolife_followers and user in prochoice_followers \n",
    "                            else 1 if user in prolife_followers else -1 for user in classifier_df['account_name']]"
   ]
  },
  {
   "cell_type": "markdown",
   "metadata": {},
   "source": [
    "Combine the classifier's result with the following diversity result."
   ]
  },
  {
   "cell_type": "code",
   "execution_count": 84,
   "metadata": {
    "collapsed": false
   },
   "outputs": [
    {
     "name": "stdout",
     "output_type": "stream",
     "text": [
      "size of the data frame (200, 7)\n"
     ]
    },
    {
     "data": {
      "text/html": [
       "<div>\n",
       "<table border=\"1\" class=\"dataframe\">\n",
       "  <thead>\n",
       "    <tr style=\"text-align: right;\">\n",
       "      <th></th>\n",
       "      <th>account_name</th>\n",
       "      <th>predict_class</th>\n",
       "      <th>prochoice_strength</th>\n",
       "      <th>prolife_strength</th>\n",
       "      <th>follower of</th>\n",
       "      <th>prolife proportion</th>\n",
       "      <th>prochoice proportion</th>\n",
       "    </tr>\n",
       "  </thead>\n",
       "  <tbody>\n",
       "    <tr>\n",
       "      <th>195</th>\n",
       "      <td>VLabarum</td>\n",
       "      <td>0</td>\n",
       "      <td>0.611405</td>\n",
       "      <td>0.388595</td>\n",
       "      <td>1</td>\n",
       "      <td>0.923077</td>\n",
       "      <td>0.076923</td>\n",
       "    </tr>\n",
       "    <tr>\n",
       "      <th>196</th>\n",
       "      <td>wafulkerson1</td>\n",
       "      <td>0</td>\n",
       "      <td>0.521904</td>\n",
       "      <td>0.478096</td>\n",
       "      <td>1</td>\n",
       "      <td>1.000000</td>\n",
       "      <td>0.000000</td>\n",
       "    </tr>\n",
       "    <tr>\n",
       "      <th>197</th>\n",
       "      <td>WarrenDavidson</td>\n",
       "      <td>0</td>\n",
       "      <td>0.612820</td>\n",
       "      <td>0.387180</td>\n",
       "      <td>1</td>\n",
       "      <td>0.900000</td>\n",
       "      <td>0.100000</td>\n",
       "    </tr>\n",
       "    <tr>\n",
       "      <th>198</th>\n",
       "      <td>WilsonRx</td>\n",
       "      <td>0</td>\n",
       "      <td>0.626736</td>\n",
       "      <td>0.373264</td>\n",
       "      <td>1</td>\n",
       "      <td>1.000000</td>\n",
       "      <td>0.000000</td>\n",
       "    </tr>\n",
       "    <tr>\n",
       "      <th>199</th>\n",
       "      <td>wordspurify27</td>\n",
       "      <td>1</td>\n",
       "      <td>0.286060</td>\n",
       "      <td>0.713940</td>\n",
       "      <td>-1</td>\n",
       "      <td>0.000000</td>\n",
       "      <td>1.000000</td>\n",
       "    </tr>\n",
       "  </tbody>\n",
       "</table>\n",
       "</div>"
      ],
      "text/plain": [
       "       account_name  predict_class  prochoice_strength  prolife_strength  \\\n",
       "195        VLabarum              0            0.611405          0.388595   \n",
       "196    wafulkerson1              0            0.521904          0.478096   \n",
       "197  WarrenDavidson              0            0.612820          0.387180   \n",
       "198        WilsonRx              0            0.626736          0.373264   \n",
       "199   wordspurify27              1            0.286060          0.713940   \n",
       "\n",
       "     follower of  prolife proportion  prochoice proportion  \n",
       "195            1            0.923077              0.076923  \n",
       "196            1            1.000000              0.000000  \n",
       "197            1            0.900000              0.100000  \n",
       "198            1            1.000000              0.000000  \n",
       "199           -1            0.000000              1.000000  "
      ]
     },
     "execution_count": 84,
     "metadata": {},
     "output_type": "execute_result"
    }
   ],
   "source": [
    "following_proportion = pd.read_csv('proportion.csv')\n",
    "combine_df = pd.merge(classifier_df, following_proportion, left_on='account_name', right_on='User', how='left')\n",
    "result_df = combine_df.drop_duplicates()\n",
    "result_df = result_df.drop('User', axis=1)\n",
    "print(\"size of the data frame\", result_df.shape)\n",
    "result_df.tail()"
   ]
  },
  {
   "cell_type": "markdown",
   "metadata": {},
   "source": [
    "# Save the file"
   ]
  },
  {
   "cell_type": "code",
   "execution_count": 85,
   "metadata": {
    "collapsed": true
   },
   "outputs": [],
   "source": [
    "result_df.to_csv(\"indiv_strength_diversity.csv\", index=False)"
   ]
  },
  {
   "cell_type": "code",
   "execution_count": null,
   "metadata": {
    "collapsed": true
   },
   "outputs": [],
   "source": []
  }
 ],
 "metadata": {
  "kernelspec": {
   "display_name": "Python [Root]",
   "language": "python",
   "name": "Python [Root]"
  },
  "language_info": {
   "codemirror_mode": {
    "name": "ipython",
    "version": 3
   },
   "file_extension": ".py",
   "mimetype": "text/x-python",
   "name": "python",
   "nbconvert_exporter": "python",
   "pygments_lexer": "ipython3",
   "version": "3.5.2"
  }
 },
 "nbformat": 4,
 "nbformat_minor": 2
}
